{
 "cells": [
  {
   "cell_type": "code",
   "execution_count": 1,
   "metadata": {},
   "outputs": [],
   "source": [
    "#Python3 Exercises "
   ]
  },
  {
   "cell_type": "markdown",
   "metadata": {},
   "source": [
    "Question 1: Accept two integer numbers from a user and return their product and  if the product is greater than 1000, then return their sum"
   ]
  },
  {
   "cell_type": "code",
   "execution_count": 4,
   "metadata": {},
   "outputs": [
    {
     "name": "stdout",
     "output_type": "stream",
     "text": [
      "Enter first number:3\n",
      "Enter second number:3\n",
      "The Result is: 9\n"
     ]
    }
   ],
   "source": [
    "def multiplication_or_sum(num1,num2):\n",
    "    product=num1*num2\n",
    "    if(product<=1000):\n",
    "        return product\n",
    "    else:\n",
    "        return num1+num2\n",
    "    \n",
    "number1=int(input(\"Enter first number:\"))\n",
    "number2=int(input(\"Enter second number:\"))\n",
    "\n",
    "result=multiplication_or_sum(number1,number2)\n",
    "print(\"The Result is:\",result)"
   ]
  },
  {
   "cell_type": "markdown",
   "metadata": {},
   "source": [
    "Question 2: Given a range of first 10 numbers, Iterate from start number to the end number and print the sum of the current number and previous number"
   ]
  },
  {
   "cell_type": "code",
   "execution_count": 7,
   "metadata": {},
   "outputs": [
    {
     "name": "stdout",
     "output_type": "stream",
     "text": [
      "Printing current and previous number sum in a given range(10)\n",
      "Current Number: 0 Previous Number: 0 Sum: 0\n",
      "Current Number: 1 Previous Number: 0 Sum: 1\n",
      "Current Number: 2 Previous Number: 1 Sum: 3\n",
      "Current Number: 3 Previous Number: 2 Sum: 5\n",
      "Current Number: 4 Previous Number: 3 Sum: 7\n",
      "Current Number: 5 Previous Number: 4 Sum: 9\n",
      "Current Number: 6 Previous Number: 5 Sum: 11\n",
      "Current Number: 7 Previous Number: 6 Sum: 13\n",
      "Current Number: 8 Previous Number: 7 Sum: 15\n",
      "Current Number: 9 Previous Number: 8 Sum: 17\n"
     ]
    }
   ],
   "source": [
    "def sumnum(num):\n",
    "    previousnum=0\n",
    "    for i in range(num):\n",
    "        sum=previousnum+i\n",
    "        print(\"Current Number:\",i,\"Previous Number:\",previousnum,\"Sum:\",sum)\n",
    "        previousnum=i\n",
    "\n",
    "print(\"Printing current and previous number sum in a given range(10)\")\n",
    "sumnum(10)"
   ]
  },
  {
   "cell_type": "markdown",
   "metadata": {},
   "source": [
    "Question 3: Accept string from a user and display only those characters which are present at an even index number."
   ]
  },
  {
   "cell_type": "code",
   "execution_count": 10,
   "metadata": {},
   "outputs": [
    {
     "name": "stdout",
     "output_type": "stream",
     "text": [
      "Enter Stringabcdefgh\n",
      "Original string: abcdefgh\n",
      "Printing only even index chars\n",
      "index[ 0 ] a\n",
      "index[ 2 ] c\n",
      "index[ 4 ] e\n",
      "index[ 6 ] g\n"
     ]
    }
   ],
   "source": [
    "def printeveindexchar(str):\n",
    "    for i in range(0,len(str)-1,2):\n",
    "        print(\"index[\",i,\"]\",str[i])\n",
    "\n",
    "inputstr=input(\"Enter String\")\n",
    "print(\"Original string:\",inputstr)\n",
    "\n",
    "print(\"Printing only even index chars\")\n",
    "printeveindexchar(inputstr)"
   ]
  },
  {
   "cell_type": "markdown",
   "metadata": {},
   "source": [
    "Question 4: Given a string and an integer number n, remove characters from a string starting from zero up to n and return a new string"
   ]
  },
  {
   "cell_type": "code",
   "execution_count": 12,
   "metadata": {},
   "outputs": [
    {
     "name": "stdout",
     "output_type": "stream",
     "text": [
      "Removing n number of chars\n",
      "EHG\n"
     ]
    }
   ],
   "source": [
    "def removechar(str,n):\n",
    "    return str[n:]\n",
    "\n",
    "print(\"Removing n number of chars\")\n",
    "print(removechar(\"SDBCEHG\",4))\n"
   ]
  },
  {
   "cell_type": "markdown",
   "metadata": {},
   "source": [
    "Question 4: Given a string and an integer number n, remove characters from a string starting from zero up to n and return a new string"
   ]
  },
  {
   "cell_type": "code",
   "execution_count": 14,
   "metadata": {},
   "outputs": [
    {
     "name": "stdout",
     "output_type": "stream",
     "text": [
      "Given list is [10, 20, 30, 40, 50, 10]\n",
      "The result is  True\n"
     ]
    }
   ],
   "source": [
    "def is_first_and_last_same(numberlist):\n",
    "    print(\"Given list is\",numberlist)\n",
    "    firstelement=numberlist[0]\n",
    "    lastelement=numberlist[-1]\n",
    "    if(firstelement==lastelement):\n",
    "        return True\n",
    "    else:\n",
    "        return False\n",
    "\n",
    "numlist=[10,20,30,40,50,10]\n",
    "print(\"The result is \",is_first_and_last_same(numlist))\n",
    "\n"
   ]
  },
  {
   "cell_type": "code",
   "execution_count": null,
   "metadata": {},
   "outputs": [],
   "source": []
  }
 ],
 "metadata": {
  "kernelspec": {
   "display_name": "Python 3",
   "language": "python",
   "name": "python3"
  },
  "language_info": {
   "codemirror_mode": {
    "name": "ipython",
    "version": 3
   },
   "file_extension": ".py",
   "mimetype": "text/x-python",
   "name": "python",
   "nbconvert_exporter": "python",
   "pygments_lexer": "ipython3",
   "version": "3.7.3"
  }
 },
 "nbformat": 4,
 "nbformat_minor": 2
}
