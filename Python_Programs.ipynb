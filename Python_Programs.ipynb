{
 "cells": [
  {
   "cell_type": "markdown",
   "metadata": {},
   "source": [
    "Python Basic Programs"
   ]
  },
  {
   "cell_type": "code",
   "execution_count": 1,
   "metadata": {},
   "outputs": [
    {
     "name": "stdout",
     "output_type": "stream",
     "text": [
      "First number:3\n"
     ]
    }
   ],
   "source": [
    "#Adding Two Numbers\n",
    "num1=input(\"First number:\")\n"
   ]
  },
  {
   "cell_type": "code",
   "execution_count": 2,
   "metadata": {},
   "outputs": [
    {
     "name": "stdout",
     "output_type": "stream",
     "text": [
      "\n",
      " Second Number:5\n"
     ]
    }
   ],
   "source": [
    "num2=input(\"\\n Second Number:\")"
   ]
  },
  {
   "cell_type": "code",
   "execution_count": 4,
   "metadata": {},
   "outputs": [
    {
     "name": "stdout",
     "output_type": "stream",
     "text": [
      "8.0\n"
     ]
    }
   ],
   "source": [
    "sum = float(num1)+float(num2)\n",
    "print(sum)"
   ]
  },
  {
   "cell_type": "code",
   "execution_count": 6,
   "metadata": {},
   "outputs": [
    {
     "name": "stdout",
     "output_type": "stream",
     "text": [
      "Sum of 3 and 5 is 8.0\n"
     ]
    }
   ],
   "source": [
    "print(\"Sum of {0} and {1} is {2}\".format(num1,num2,sum))"
   ]
  },
  {
   "cell_type": "code",
   "execution_count": 7,
   "metadata": {},
   "outputs": [],
   "source": [
    "#find Factorial of a number\n",
    "def factorial(n):\n",
    "    return 1 if(n==1 or n==0) else n*factorial(n-1);\n"
   ]
  },
  {
   "cell_type": "code",
   "execution_count": 8,
   "metadata": {},
   "outputs": [
    {
     "name": "stdout",
     "output_type": "stream",
     "text": [
      "factorial of 5 is 120\n"
     ]
    }
   ],
   "source": [
    "#driver code\n",
    "num=5\n",
    "print(\"factorial of\" , num ,\"is\",\n",
    "      factorial(num))\n"
   ]
  },
  {
   "cell_type": "code",
   "execution_count": 9,
   "metadata": {},
   "outputs": [],
   "source": [
    "#iterative code for factorial\n",
    "def factorial(n):\n",
    "    if n<0:\n",
    "        return 0\n",
    "    elif (n==0 or n==1):\n",
    "        return 1\n",
    "    else:\n",
    "        fact=1\n",
    "        while(n>1):\n",
    "            fact*=n\n",
    "            n-=1\n",
    "        return fact\n",
    "        \n",
    "    "
   ]
  },
  {
   "cell_type": "code",
   "execution_count": 16,
   "metadata": {},
   "outputs": [
    {
     "name": "stdout",
     "output_type": "stream",
     "text": [
      "Factorial of  6 is 720\n"
     ]
    }
   ],
   "source": [
    "#driver code\n",
    "num=6\n",
    "print(\"Factorial of \",num,\"is\",\n",
    "     factorial(num))"
   ]
  },
  {
   "cell_type": "code",
   "execution_count": 17,
   "metadata": {},
   "outputs": [],
   "source": [
    "#Calculate simple Interest\n",
    "# I=PNR\n",
    "p=2000\n",
    "n=5\n",
    "r=0.4\n",
    "\n",
    "SI=(p*n*r)"
   ]
  },
  {
   "cell_type": "code",
   "execution_count": 18,
   "metadata": {},
   "outputs": [
    {
     "name": "stdout",
     "output_type": "stream",
     "text": [
      "Simple Interest 4000.0\n"
     ]
    }
   ],
   "source": [
    "print(\"Simple Interest\",SI)"
   ]
  },
  {
   "cell_type": "code",
   "execution_count": 21,
   "metadata": {},
   "outputs": [
    {
     "name": "stdout",
     "output_type": "stream",
     "text": [
      "Compound Interest: 4898.0111032166\n"
     ]
    }
   ],
   "source": [
    "#Compound Interest\n",
    "def compound_interest(p,n,r):\n",
    "    ci=p*(pow((1+r/100),r))\n",
    "    print(\"Compound Interest:\",ci)\n",
    "    \n",
    "#driver code\n",
    "compound_interest(1000,3,13);"
   ]
  },
  {
   "cell_type": "code",
   "execution_count": 22,
   "metadata": {},
   "outputs": [],
   "source": [
    "#find Area of Circle\n",
    "\n",
    "def area_circle(r):\n",
    "    pi=3.142\n",
    "    return pi*(r*r);\n",
    "\n"
   ]
  },
  {
   "cell_type": "code",
   "execution_count": 25,
   "metadata": {},
   "outputs": [
    {
     "name": "stdout",
     "output_type": "stream",
     "text": [
      "Area of cirle: 78.55\n"
     ]
    }
   ],
   "source": [
    "#drivr\n",
    "print(\"Area of cirle:\",area_circle(5));"
   ]
  },
  {
   "cell_type": "code",
   "execution_count": 29,
   "metadata": {},
   "outputs": [],
   "source": [
    "#class & Object function\n",
    "class person:\n",
    "    def __init__(self,name,age):\n",
    "        self.name=name;\n",
    "        self.age=age;\n",
    "        \n",
    "p1=person(\"John\",36)\n",
    "\n"
   ]
  },
  {
   "cell_type": "code",
   "execution_count": 30,
   "metadata": {},
   "outputs": [
    {
     "name": "stdout",
     "output_type": "stream",
     "text": [
      "John\n",
      "36\n"
     ]
    }
   ],
   "source": [
    "print(p1.name)\n",
    "print(p1.age)"
   ]
  },
  {
   "cell_type": "code",
   "execution_count": 32,
   "metadata": {},
   "outputs": [
    {
     "name": "stdout",
     "output_type": "stream",
     "text": [
      "Hello My name is George\n"
     ]
    }
   ],
   "source": [
    "#object method\n",
    "class person:\n",
    "    def __init__(self,name,age):\n",
    "        self.name=name\n",
    "        self.age=age\n",
    "        \n",
    "    def myfunc(self):\n",
    "        print(\"Hello My name is \"+self.name)\n",
    "    \n",
    "    \n",
    "p1=person(\"George\",36)\n",
    "p1.myfunc()"
   ]
  },
  {
   "cell_type": "code",
   "execution_count": 33,
   "metadata": {},
   "outputs": [
    {
     "name": "stdout",
     "output_type": "stream",
     "text": [
      "Hello my name is John\n"
     ]
    }
   ],
   "source": [
    "#can use any names instead of self\n",
    "class Person:\n",
    "  def __init__(mysillyobject, name, age):\n",
    "    mysillyobject.name = name\n",
    "    mysillyobject.age = age\n",
    "\n",
    "  def myfunc(abc):\n",
    "    print(\"Hello my name is \" + abc.name)\n",
    "\n",
    "p1 = Person(\"John\", 36)\n",
    "p1.myfunc()"
   ]
  },
  {
   "cell_type": "code",
   "execution_count": 36,
   "metadata": {},
   "outputs": [
    {
     "name": "stdout",
     "output_type": "stream",
     "text": [
      "{'a': 1, 'b': 2}\n"
     ]
    }
   ],
   "source": [
    "#python object without slots\n",
    "class GFG(object): \n",
    "\tdef __init__(self, *args, **kwargs): \n",
    "                self.a = 1\n",
    "                self.b = 2\n",
    "\n",
    "if __name__ == \"__main__\": \n",
    "    instance = GFG() \n",
    "    print(instance.__dict__) \n"
   ]
  },
  {
   "cell_type": "code",
   "execution_count": 35,
   "metadata": {},
   "outputs": [
    {
     "name": "stdout",
     "output_type": "stream",
     "text": [
      "['a', 'b']\n"
     ]
    }
   ],
   "source": [
    "#Example of python object with slots\n",
    "class GFG(object): \n",
    "\t__slots__=['a', 'b'] \n",
    "\tdef __init__(self, *args, **kwargs): \n",
    "\t\t\t\tself.a = 1\n",
    "\t\t\t\tself.b = 2\n",
    "\n",
    "if __name__ == \"__main__\": \n",
    "\tinstance = GFG() \n",
    "\tprint(instance.__slots__) \n"
   ]
  },
  {
   "cell_type": "code",
   "execution_count": 37,
   "metadata": {},
   "outputs": [
    {
     "ename": "AttributeError",
     "evalue": "'GFG' object has no attribute '__dict__'",
     "output_type": "error",
     "traceback": [
      "\u001b[1;31m---------------------------------------------------------------------------\u001b[0m",
      "\u001b[1;31mAttributeError\u001b[0m                            Traceback (most recent call last)",
      "\u001b[1;32m<ipython-input-37-b0c2db323987>\u001b[0m in \u001b[0;36m<module>\u001b[1;34m\u001b[0m\n\u001b[0;32m      8\u001b[0m \u001b[1;32mif\u001b[0m \u001b[0m__name__\u001b[0m \u001b[1;33m==\u001b[0m \u001b[1;34m\"__main__\"\u001b[0m\u001b[1;33m:\u001b[0m\u001b[1;33m\u001b[0m\u001b[1;33m\u001b[0m\u001b[0m\n\u001b[0;32m      9\u001b[0m         \u001b[0minstance\u001b[0m \u001b[1;33m=\u001b[0m \u001b[0mGFG\u001b[0m\u001b[1;33m(\u001b[0m\u001b[1;33m)\u001b[0m\u001b[1;33m\u001b[0m\u001b[1;33m\u001b[0m\u001b[0m\n\u001b[1;32m---> 10\u001b[1;33m         \u001b[0mprint\u001b[0m\u001b[1;33m(\u001b[0m\u001b[0minstance\u001b[0m\u001b[1;33m.\u001b[0m\u001b[0m__dict__\u001b[0m\u001b[1;33m)\u001b[0m\u001b[1;33m\u001b[0m\u001b[1;33m\u001b[0m\u001b[0m\n\u001b[0m",
      "\u001b[1;31mAttributeError\u001b[0m: 'GFG' object has no attribute '__dict__'"
     ]
    }
   ],
   "source": [
    "#Example of python if we use dict :\n",
    "class GFG(object): \n",
    "\t__slots__=['a', 'b'] \n",
    "\tdef __init__(self, *args, **kwargs): \n",
    "\t\t\t\tself.a = 1\n",
    "\t\t\t\tself.b = 2\n",
    "\n",
    "if __name__ == \"__main__\": \n",
    "\tinstance = GFG() \n",
    "\tprint(instance.__dict__) \n"
   ]
  },
  {
   "cell_type": "code",
   "execution_count": null,
   "metadata": {},
   "outputs": [],
   "source": []
  }
 ],
 "metadata": {
  "kernelspec": {
   "display_name": "Python 3",
   "language": "python",
   "name": "python3"
  },
  "language_info": {
   "codemirror_mode": {
    "name": "ipython",
    "version": 3
   },
   "file_extension": ".py",
   "mimetype": "text/x-python",
   "name": "python",
   "nbconvert_exporter": "python",
   "pygments_lexer": "ipython3",
   "version": "3.7.3"
  }
 },
 "nbformat": 4,
 "nbformat_minor": 2
}
