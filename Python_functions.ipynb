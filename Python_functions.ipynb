{
  "nbformat": 4,
  "nbformat_minor": 0,
  "metadata": {
    "colab": {
      "name": "Python_functions.ipynb",
      "provenance": []
    },
    "kernelspec": {
      "name": "python3",
      "display_name": "Python 3"
    }
  },
  "cells": [
    {
      "cell_type": "code",
      "metadata": {
        "id": "UvvtYwfy4ttb",
        "colab_type": "code",
        "colab": {}
      },
      "source": [
        "#PYTHON FUNCTIONS"
      ],
      "execution_count": 0,
      "outputs": []
    },
    {
      "cell_type": "markdown",
      "metadata": {
        "id": "xzEVVzRY5Ugu",
        "colab_type": "text"
      },
      "source": [
        "**FUNCTIONS**\n",
        "\n",
        "A function is a block of code which only runs when it is called.\n",
        "\n",
        "You can pass data, known as parameters, into a function.\n",
        "\n",
        "A function can return data as a result."
      ]
    },
    {
      "cell_type": "code",
      "metadata": {
        "id": "qBP2_ZFS5ZWj",
        "colab_type": "code",
        "colab": {}
      },
      "source": [
        "#Creating a Function\n",
        "def my_function():\n",
        "  print(\"Hello from a function\")\n",
        "  "
      ],
      "execution_count": 0,
      "outputs": []
    },
    {
      "cell_type": "code",
      "metadata": {
        "id": "8QEErAtT5skF",
        "colab_type": "code",
        "outputId": "30f396be-d4ba-47e2-bf52-7aa8ff553538",
        "colab": {
          "base_uri": "https://localhost:8080/",
          "height": 34
        }
      },
      "source": [
        "my_function()"
      ],
      "execution_count": 0,
      "outputs": [
        {
          "output_type": "stream",
          "text": [
            "Hello from a function\n"
          ],
          "name": "stdout"
        }
      ]
    },
    {
      "cell_type": "markdown",
      "metadata": {
        "id": "_bc0w8Lh6JWF",
        "colab_type": "text"
      },
      "source": [
        "Arguments:\n",
        "\n",
        "Information can be passed into functions as arguments.\n",
        "\n",
        "Arguments are specified after the function name, inside the parentheses. You can add as many arguments as you want, just separate them with a comma.\n",
        "\n",
        "The following example has a function with one argument (fname). When the function is called, we pass along a first name, which is used inside the function to print the full name:"
      ]
    },
    {
      "cell_type": "code",
      "metadata": {
        "id": "ko8KJEJo5vKL",
        "colab_type": "code",
        "outputId": "9c608bae-7ed8-4315-f00e-96d6ec731c02",
        "colab": {
          "base_uri": "https://localhost:8080/",
          "height": 68
        }
      },
      "source": [
        "#with arguements \n",
        "\n",
        "def my_function(fname):\n",
        "  print(fname +\" \"+'refsnes')\n",
        "\n",
        "my_function('email')\n",
        "my_function('Tobians')\n",
        "my_function('Linus')"
      ],
      "execution_count": 0,
      "outputs": [
        {
          "output_type": "stream",
          "text": [
            "email refsnes\n",
            "Tobians refsnes\n",
            "Linus refsnes\n"
          ],
          "name": "stdout"
        }
      ]
    },
    {
      "cell_type": "markdown",
      "metadata": {
        "id": "MmG3iddY8TtD",
        "colab_type": "text"
      },
      "source": [
        "Parameters or Arguments?\n",
        "\n",
        "The terms parameter and argument can be used for the same thing: information that are passed into a function.\n",
        "\n",
        "From a function's perspective:\n",
        "\n",
        "A parameter is the variable listed inside the parentheses in the function definition.\n",
        "\n",
        "An argument is the value that are sent to the function when it is called.\n",
        "\n",
        "Number of Arguments:\n",
        "\n",
        "By default, a function must be called with the correct number of arguments. Meaning that if your function expects 2 arguments, you have to call the function with 2 arguments, not more, and not less.\n",
        "\n",
        "\n",
        "\n"
      ]
    },
    {
      "cell_type": "code",
      "metadata": {
        "id": "bvFtD8Xc76QZ",
        "colab_type": "code",
        "outputId": "0b44e8d9-282f-4236-98ae-8287efdaca69",
        "colab": {
          "base_uri": "https://localhost:8080/",
          "height": 34
        }
      },
      "source": [
        "#Number of arguments is important\n",
        "def my_function(fname, lname):\n",
        "  print(fname + \" \" + lname)\n",
        "\n",
        "my_function(\"Emil\", \"Refsnes\")"
      ],
      "execution_count": 0,
      "outputs": [
        {
          "output_type": "stream",
          "text": [
            "Emil Refsnes\n"
          ],
          "name": "stdout"
        }
      ]
    },
    {
      "cell_type": "code",
      "metadata": {
        "id": "8z0vKsXO98Gz",
        "colab_type": "code",
        "outputId": "89371838-4392-4721-c05a-47de73f05108",
        "colab": {
          "base_uri": "https://localhost:8080/",
          "height": 197
        }
      },
      "source": [
        "# We have to pass 2 arguments while calling the function\n",
        "def my_function(fname, lname):\n",
        "  print(fname + \" \" + lname)\n",
        "\n",
        "my_function(\"Emil\")"
      ],
      "execution_count": 0,
      "outputs": [
        {
          "output_type": "error",
          "ename": "TypeError",
          "evalue": "ignored",
          "traceback": [
            "\u001b[0;31m---------------------------------------------------------------------------\u001b[0m",
            "\u001b[0;31mTypeError\u001b[0m                                 Traceback (most recent call last)",
            "\u001b[0;32m<ipython-input-9-49655f8043be>\u001b[0m in \u001b[0;36m<module>\u001b[0;34m()\u001b[0m\n\u001b[1;32m      2\u001b[0m   \u001b[0mprint\u001b[0m\u001b[0;34m(\u001b[0m\u001b[0mfname\u001b[0m \u001b[0;34m+\u001b[0m \u001b[0;34m\" \"\u001b[0m \u001b[0;34m+\u001b[0m \u001b[0mlname\u001b[0m\u001b[0;34m)\u001b[0m\u001b[0;34m\u001b[0m\u001b[0;34m\u001b[0m\u001b[0m\n\u001b[1;32m      3\u001b[0m \u001b[0;34m\u001b[0m\u001b[0m\n\u001b[0;32m----> 4\u001b[0;31m \u001b[0mmy_function\u001b[0m\u001b[0;34m(\u001b[0m\u001b[0;34m\"Emil\"\u001b[0m\u001b[0;34m)\u001b[0m\u001b[0;34m\u001b[0m\u001b[0;34m\u001b[0m\u001b[0m\n\u001b[0m",
            "\u001b[0;31mTypeError\u001b[0m: my_function() missing 1 required positional argument: 'lname'"
          ]
        }
      ]
    },
    {
      "cell_type": "markdown",
      "metadata": {
        "id": "INXV6pUh_UwJ",
        "colab_type": "text"
      },
      "source": [
        "Arbitrary Arguments, *args\n",
        "\n",
        "\n",
        "If you do not know how many arguments that will be passed into your function, add a * before the parameter name in the function definition.\n",
        "\n",
        "This way the function will receive a tuple of arguments, and can access the items accordingly:"
      ]
    },
    {
      "cell_type": "markdown",
      "metadata": {
        "id": "ZVvq416JEnMT",
        "colab_type": "text"
      },
      "source": [
        "Keyword Arguments\n",
        "You can also send arguments with the key = value syntax.\n",
        "\n",
        "This way the order of the arguments does not matter.\n"
      ]
    },
    {
      "cell_type": "code",
      "metadata": {
        "id": "sroElRu6-KsU",
        "colab_type": "code",
        "colab": {
          "base_uri": "https://localhost:8080/",
          "height": 34
        },
        "outputId": "073669e2-b288-4899-cae2-443242508377"
      },
      "source": [
        "def my_function(child3, child2, child1):\n",
        "  print(\"The youngest child is \" + child3)\n",
        "\n",
        "my_function(child1 = \"Emil\", child2 = \"Tobias\", child3 = \"Linus\")"
      ],
      "execution_count": 1,
      "outputs": [
        {
          "output_type": "stream",
          "text": [
            "The youngest child is Linus\n"
          ],
          "name": "stdout"
        }
      ]
    },
    {
      "cell_type": "markdown",
      "metadata": {
        "id": "iUrPGvU63VtR",
        "colab_type": "text"
      },
      "source": [
        "**Arbitrary Keyword Arguments,**   **kwargs\n",
        "\n",
        "If you do not know how many keyword arguments that will be passed into your function, add two asterisk: ** before the parameter name in the function definition.\n",
        "\n",
        "This way the function will receive a dictionary of arguments, and can access the items accordingly:"
      ]
    },
    {
      "cell_type": "code",
      "metadata": {
        "id": "RHVaTAAgxSkU",
        "colab_type": "code",
        "colab": {
          "base_uri": "https://localhost:8080/",
          "height": 34
        },
        "outputId": "303b2e1d-4649-47dc-d155-152ddc591054"
      },
      "source": [
        "def my_function(**kid):\n",
        "  print(\"His last name is \" + kid[\"lname\"])\n",
        "\n",
        "my_function(fname = \"Tobias\", lname = \"Refsnes\")"
      ],
      "execution_count": 2,
      "outputs": [
        {
          "output_type": "stream",
          "text": [
            "His last name is Refsnes\n"
          ],
          "name": "stdout"
        }
      ]
    },
    {
      "cell_type": "markdown",
      "metadata": {
        "id": "VQ82YXo25cxm",
        "colab_type": "text"
      },
      "source": [
        "Default Parameter Value\n",
        "\n",
        "The following example shows how to use a default parameter value.\n",
        "\n",
        "If we call the function without argument, it uses the default value:"
      ]
    },
    {
      "cell_type": "code",
      "metadata": {
        "id": "DXxKo08130VF",
        "colab_type": "code",
        "colab": {
          "base_uri": "https://localhost:8080/",
          "height": 85
        },
        "outputId": "c5637c87-f8c8-4f7c-95d4-a4d825d63a5c"
      },
      "source": [
        "def my_function(country = \"Norway\"):\n",
        "  print(\"I am from \" + country)\n",
        "\n",
        "my_function(\"Sweden\")\n",
        "my_function(\"India\")\n",
        "my_function()\n",
        "my_function(\"Brazil\")"
      ],
      "execution_count": 3,
      "outputs": [
        {
          "output_type": "stream",
          "text": [
            "I am from Sweden\n",
            "I am from India\n",
            "I am from Norway\n",
            "I am from Brazil\n"
          ],
          "name": "stdout"
        }
      ]
    },
    {
      "cell_type": "markdown",
      "metadata": {
        "id": "qjFifAN7FO6P",
        "colab_type": "text"
      },
      "source": [
        "Passing a List as an Argument\n",
        "\n",
        "You can send any data types of argument to a function (string, number, list, dictionary etc.), and it will be treated as the same data type inside the function.\n",
        "\n",
        "E.g. if you send a List as an argument, it will still be a List when it reaches the function:"
      ]
    },
    {
      "cell_type": "code",
      "metadata": {
        "id": "IHoMdMmg5lPn",
        "colab_type": "code",
        "colab": {
          "base_uri": "https://localhost:8080/",
          "height": 68
        },
        "outputId": "239eaf18-bfb5-418a-acf6-1eb2744d871f"
      },
      "source": [
        "def my_function(food):\n",
        "  for x in food:\n",
        "    print(x)\n",
        "\n",
        "fruits = [\"apple\", \"banana\", \"cherry\"]\n",
        "\n",
        "my_function(fruits)"
      ],
      "execution_count": 4,
      "outputs": [
        {
          "output_type": "stream",
          "text": [
            "apple\n",
            "banana\n",
            "cherry\n"
          ],
          "name": "stdout"
        }
      ]
    },
    {
      "cell_type": "markdown",
      "metadata": {
        "id": "C11mERYgKbxb",
        "colab_type": "text"
      },
      "source": [
        "Return Values\n",
        "To let a function return a value, use the return statement:"
      ]
    },
    {
      "cell_type": "code",
      "metadata": {
        "id": "UfT8agO0Fylh",
        "colab_type": "code",
        "colab": {
          "base_uri": "https://localhost:8080/",
          "height": 68
        },
        "outputId": "958d6715-f473-4ade-8692-9aac32fce645"
      },
      "source": [
        "def my_function(x):\n",
        "  return 5 * x\n",
        "\n",
        "print(my_function(3))\n",
        "print(my_function(5))\n",
        "print(my_function(9))"
      ],
      "execution_count": 5,
      "outputs": [
        {
          "output_type": "stream",
          "text": [
            "15\n",
            "25\n",
            "45\n"
          ],
          "name": "stdout"
        }
      ]
    },
    {
      "cell_type": "markdown",
      "metadata": {
        "id": "TAYTFGc2KzjW",
        "colab_type": "text"
      },
      "source": [
        "The pass Statement\n",
        "\n",
        "function definitions cannot be empty, but if you for some reason have a function definition with no content, put in the pass statement to avoid getting an error."
      ]
    },
    {
      "cell_type": "code",
      "metadata": {
        "id": "5GpLYieaKkBj",
        "colab_type": "code",
        "colab": {}
      },
      "source": [
        "def myfunction():\n",
        "  pass"
      ],
      "execution_count": 0,
      "outputs": []
    },
    {
      "cell_type": "markdown",
      "metadata": {
        "id": "ggbw6vc-LHVC",
        "colab_type": "text"
      },
      "source": [
        "Recursion\n",
        "\n",
        "Python also accepts function recursion, which means a defined function can call itself.\n",
        "\n",
        "Recursion is a common mathematical and programming concept. It means that a function calls itself. This has the benefit of meaning that you can loop through data to reach a result."
      ]
    },
    {
      "cell_type": "code",
      "metadata": {
        "id": "ErFuSVzdLJW4",
        "colab_type": "code",
        "colab": {
          "base_uri": "https://localhost:8080/",
          "height": 187
        },
        "outputId": "270aa149-4d92-458c-a63c-039e016af5d9"
      },
      "source": [
        "def tri_recursion(k):\n",
        "  if(k>0):\n",
        "    result = k+tri_recursion(k-1)\n",
        "    print(result)\n",
        "  else:\n",
        "    result = 0\n",
        "  return result\n",
        "\n",
        "print(\"\\n\\nRecursion Example Results\")\n",
        "tri_recursion(6)"
      ],
      "execution_count": 7,
      "outputs": [
        {
          "output_type": "stream",
          "text": [
            "\n",
            "\n",
            "Recursion Example Results\n",
            "1\n",
            "3\n",
            "6\n",
            "10\n",
            "15\n",
            "21\n"
          ],
          "name": "stdout"
        },
        {
          "output_type": "execute_result",
          "data": {
            "text/plain": [
              "21"
            ]
          },
          "metadata": {
            "tags": []
          },
          "execution_count": 7
        }
      ]
    },
    {
      "cell_type": "code",
      "metadata": {
        "id": "AaJQ105tLXNa",
        "colab_type": "code",
        "colab": {
          "base_uri": "https://localhost:8080/",
          "height": 34
        },
        "outputId": "82400ccc-5118-4b58-df7b-7b797c92ebb3"
      },
      "source": [
        "# An example of a recursive function to\n",
        "# find the factorial of a number\n",
        "\n",
        "def calc_factorial(x):\n",
        "    \"\"\"This is a recursive function\n",
        "    to find the factorial of an integer\"\"\"\n",
        "\n",
        "    if x == 1:\n",
        "        return 1\n",
        "    else:\n",
        "        return (x * calc_factorial(x-1))\n",
        "\n",
        "num = 4\n",
        "print(\"The factorial of\", num, \"is\", calc_factorial(num))"
      ],
      "execution_count": 8,
      "outputs": [
        {
          "output_type": "stream",
          "text": [
            "The factorial of 4 is 24\n"
          ],
          "name": "stdout"
        }
      ]
    },
    {
      "cell_type": "markdown",
      "metadata": {
        "id": "Wm-sYGrjOKZc",
        "colab_type": "text"
      },
      "source": [
        "\n",
        "calc_factorial(4)              # 1st call with 4\n",
        "\n",
        "4 * calc_factorial(3)          # 2nd call with 3\n",
        "\n",
        "4 * 3 * calc_factorial(2)      # 3rd call with 2\n",
        "\n",
        "4 * 3 * 2 * calc_factorial(1)  # 4th call with 1\n",
        "\n",
        "4 * 3 * 2 * 1                  # return from 4th call as number=1\n",
        "\n",
        "4 * 3 * 2                      # return from 3rd call\n",
        "\n",
        "4 * 6                          # return from 2nd call\n",
        "\n",
        "24                             # return from 1st call\n"
      ]
    },
    {
      "cell_type": "code",
      "metadata": {
        "id": "Ld8ElSLZN-jO",
        "colab_type": "code",
        "colab": {}
      },
      "source": [
        ""
      ],
      "execution_count": 0,
      "outputs": []
    }
  ]
}