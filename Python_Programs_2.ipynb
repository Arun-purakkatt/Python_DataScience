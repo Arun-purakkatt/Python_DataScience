{
 "cells": [
  {
   "cell_type": "markdown",
   "metadata": {},
   "source": [
    "Question 6: Given a list of numbers, Iterate it and print only those numbers which are divisible of 5"
   ]
  },
  {
   "cell_type": "code",
   "execution_count": 4,
   "metadata": {},
   "outputs": [
    {
     "name": "stdout",
     "output_type": "stream",
     "text": [
      "Given list [10, 20, 33, 40, 50, 67]\n",
      "10\n",
      "20\n",
      "40\n",
      "50\n"
     ]
    }
   ],
   "source": [
    "def listdivisibleby5(numlist):\n",
    "    print(\"Given list\",numlist)\n",
    "    for i in numlist:\n",
    "        if(i%5==0):\n",
    "            print(i)\n",
    "       \n",
    "    \n",
    "numberlist=[10,20,33,40,50,67]\n",
    "listdivisibleby5(numberlist)"
   ]
  },
  {
   "cell_type": "markdown",
   "metadata": {},
   "source": [
    "Question 7: Return the total count of string “Emma” appears in the given string\n",
    "Given string is “Emma is good developer. Emma is a writer”\n",
    "\n",
    "Expected Output:\n",
    "\n",
    "Emma appeared 2 times"
   ]
  },
  {
   "cell_type": "code",
   "execution_count": 5,
   "metadata": {},
   "outputs": [
    {
     "name": "stdout",
     "output_type": "stream",
     "text": [
      "Given string Emma is good developer,Emma is good Writer\n",
      "Emma appeared 2 times\n"
     ]
    }
   ],
   "source": [
    "def count_word(statement):\n",
    "    print(\"Given string\",statement)\n",
    "    count=0\n",
    "    for i in range(len(statement)-1):\n",
    "        count+=statement[i:i+4]== 'Emma'\n",
    "    return count\n",
    "\n",
    "count=count_word(\"Emma is good developer,Emma is good Writer\")\n",
    "print(\"Emma appeared\",count,\"times\")"
   ]
  },
  {
   "cell_type": "code",
   "execution_count": 7,
   "metadata": {},
   "outputs": [],
   "source": [
    "#Question 8: Print the following pattern\n",
    "\n",
    "#1 \n",
    "#2 2 \n",
    "#3 3 3 \n",
    "#4 4 4 4 \n",
    "#5 5 5 5 5"
   ]
  },
  {
   "cell_type": "code",
   "execution_count": 9,
   "metadata": {},
   "outputs": [
    {
     "name": "stdout",
     "output_type": "stream",
     "text": [
      "Enter the number of rows 7\n",
      "\n",
      "\n",
      "1\n",
      "\n",
      "22\n",
      "\n",
      "333\n",
      "\n",
      "4444\n",
      "\n",
      "55555\n",
      "\n",
      "666666\n",
      "\n"
     ]
    }
   ],
   "source": [
    "rows=int(input(\"Enter the number of rows \"))\n",
    "for num in range(rows):\n",
    "    for i in range(num):\n",
    "        print(num,end=\"\")\n",
    "    \n",
    "    print(\"\\n\")"
   ]
  },
  {
   "cell_type": "markdown",
   "metadata": {},
   "source": [
    "Question 9: Reverse a given number and return true if it is the same as the original number\n",
    "\n",
    "Expected Output:\n",
    "\n",
    "original number 121\n",
    "\n",
    "The original and reverse number is the same: True\n",
    "\n",
    "original number 125\n",
    "\n",
    "The original and reverse number is the same: False\n",
    "\n",
    "True"
   ]
  },
  {
   "cell_type": "code",
   "execution_count": 13,
   "metadata": {},
   "outputs": [
    {
     "name": "stdout",
     "output_type": "stream",
     "text": [
      "original number 121\n",
      "The original and reverse number is the same: True\n"
     ]
    }
   ],
   "source": [
    "def reversenumcheck(number):\n",
    "    print(\"original number\",number)\n",
    "    reversenumber=0\n",
    "    originalnumber=number\n",
    "    while(number>0):\n",
    "        reminder=number%10\n",
    "        reversenumber=reversenumber*10+reminder\n",
    "        number=number//10\n",
    "    if(originalnumber==reversenumber):\n",
    "        return True\n",
    "    else:\n",
    "        return False\n",
    "    \n",
    "print(\"The original and reverse number is the same:\", reversenumcheck(121))"
   ]
  },
  {
   "cell_type": "markdown",
   "metadata": {},
   "source": [
    "Question 10: Given a two list of numbers create a new list such that new list should contain only odd numbers from the first list and even numbers from the second list\n",
    "    \n",
    "    Expected Output:\n",
    "\n",
    "First List  [10, 20, 23, 11, 17]\n",
    "\n",
    "Second List  [13, 43, 24, 36, 12]\n",
    "\n",
    "result List is [23, 11, 17, 24, 36, 12]"
   ]
  },
  {
   "cell_type": "code",
   "execution_count": 21,
   "metadata": {},
   "outputs": [
    {
     "name": "stdout",
     "output_type": "stream",
     "text": [
      "First list: [10, 20, 23, 11, 17]\n",
      "Second list: [13, 43, 24, 36, 12]\n",
      "The result list is [10, 20, 24, 36, 12]\n"
     ]
    }
   ],
   "source": [
    "def createnewlist(firstlist,secondlist):\n",
    "    print(\"First list:\",firstlist)\n",
    "    print(\"Second list:\",secondlist)\n",
    "    resultlist=[]\n",
    "    for i in firstlist:\n",
    "        if(i%2==0):\n",
    "            resultlist.append(i)\n",
    "    for i in secondlist:\n",
    "        if(i%3==0):\n",
    "            resultlist.append(i)\n",
    "    return resultlist\n",
    "\n",
    "firstlist=[10, 20, 23, 11, 17]\n",
    "secondlist=[13, 43, 24, 36, 12]\n",
    "print(\"The result list is\",createnewlist(firstlist,secondlist))\n",
    "        "
   ]
  },
  {
   "cell_type": "code",
   "execution_count": null,
   "metadata": {},
   "outputs": [],
   "source": []
  }
 ],
 "metadata": {
  "kernelspec": {
   "display_name": "Python 3",
   "language": "python",
   "name": "python3"
  },
  "language_info": {
   "codemirror_mode": {
    "name": "ipython",
    "version": 3
   },
   "file_extension": ".py",
   "mimetype": "text/x-python",
   "name": "python",
   "nbconvert_exporter": "python",
   "pygments_lexer": "ipython3",
   "version": "3.7.3"
  }
 },
 "nbformat": 4,
 "nbformat_minor": 2
}
