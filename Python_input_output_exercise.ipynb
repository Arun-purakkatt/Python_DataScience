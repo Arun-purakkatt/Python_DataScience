{
 "cells": [
  {
   "cell_type": "markdown",
   "metadata": {},
   "source": [
    "Exercise Question 1: Accept two numbers from the user and calculate multiplication"
   ]
  },
  {
   "cell_type": "code",
   "execution_count": 1,
   "metadata": {},
   "outputs": [
    {
     "name": "stdout",
     "output_type": "stream",
     "text": [
      "Enter First number2\n",
      "Enter Second number3\n",
      "6\n"
     ]
    }
   ],
   "source": [
    "num1=int(input(\"Enter First number\"))\n",
    "num2=int(input(\"Enter Second number\"))\n",
    "product=num1*num2\n",
    "print(product)"
   ]
  },
  {
   "cell_type": "markdown",
   "metadata": {},
   "source": [
    "Exercise Question 2: Display “My Name Is James” as “My**Name**Is**James” using output formatting of a print() function\n",
    "\n",
    "Expected Output:\n",
    "\n",
    "Use print() statement formatting to display ** separator between each word.\n",
    "\n",
    "For example: print('My', 'Name', 'Is', 'James') will display MyNameIsJames\n",
    "\n",
    "So use one of the formatting argument of print() to turn the output into My**Name**Is**James"
   ]
  },
  {
   "cell_type": "code",
   "execution_count": 2,
   "metadata": {},
   "outputs": [
    {
     "name": "stdout",
     "output_type": "stream",
     "text": [
      "my**name**is**james\n"
     ]
    }
   ],
   "source": [
    "print('my','name','is','james',sep='**')"
   ]
  },
  {
   "cell_type": "markdown",
   "metadata": {},
   "source": [
    "Exercise Question 3: Convert decimal number to octal using print() output formatting"
   ]
  },
  {
   "cell_type": "code",
   "execution_count": 10,
   "metadata": {},
   "outputs": [
    {
     "name": "stdout",
     "output_type": "stream",
     "text": [
      "10,\n"
     ]
    }
   ],
   "source": [
    "print('%o,' %(8))"
   ]
  },
  {
   "cell_type": "markdown",
   "metadata": {},
   "source": [
    "Exercise Question 4: Display float number with 2 decimal places using print()\n",
    "Expected Output:\n",
    "\n",
    "Display 458.541315 as 458.54"
   ]
  },
  {
   "cell_type": "code",
   "execution_count": 16,
   "metadata": {},
   "outputs": [
    {
     "name": "stdout",
     "output_type": "stream",
     "text": [
      "458.54\n"
     ]
    }
   ],
   "source": [
    "print( '%.2f'% 458.541315)"
   ]
  },
  {
   "cell_type": "markdown",
   "metadata": {},
   "source": [
    "Exercise Question 5: Accept list of 5 float numbers as a input from user\n",
    "Expected Output:\n",
    "\n",
    "Numbers can be any\n",
    "\n",
    "[78.6, 78.6, 85.3, 1.2, 3.5]"
   ]
  },
  {
   "cell_type": "code",
   "execution_count": 18,
   "metadata": {},
   "outputs": [
    {
     "name": "stdout",
     "output_type": "stream",
     "text": [
      "Enter size of list:4\n",
      "Enter number at location 0 :\n",
      "1.2\n",
      "Enter number at location 1 :\n",
      "3.5\n",
      "Enter number at location 2 :\n",
      "2.3\n",
      "Enter number at location 3 :\n",
      "5.6\n",
      "user list is [1.2, 3.5, 2.3, 5.6]\n"
     ]
    }
   ],
   "source": [
    "floatnumbers=[]\n",
    "\n",
    "n=int(input(\"Enter size of list:\"))\n",
    "\n",
    "for i in range(0,n):\n",
    "    print(\"Enter number at location\",i,\":\")\n",
    "    item=float(input())\n",
    "    floatnumbers.append(item)\n",
    "\n",
    "print(\"user list is\", floatnumbers)"
   ]
  },
  {
   "cell_type": "markdown",
   "metadata": {},
   "source": [
    "Exercise Question 6: write all file content into new file by skiping line 5 from following file\n",
    "\n",
    "test.txt file:\n",
    "\n",
    "line1\n",
    "line2\n",
    "line3\n",
    "line4\n",
    "line5\n",
    "line6\n",
    "line7\n",
    "\n",
    "newFile.txt should be\n",
    "\n",
    "line1\n",
    "line2\n",
    "line3\n",
    "line4\n",
    "line6\n",
    "line7"
   ]
  },
  {
   "cell_type": "code",
   "execution_count": 19,
   "metadata": {},
   "outputs": [],
   "source": [
    "count = 0\n",
    "with open(\"test.txt\", \"r\") as fp:\n",
    "    lines = fp.readlines()\n",
    "    count = len(lines)\n",
    "with open(\"newFile.txt\", \"w\") as fp:\n",
    "    for line in lines:\n",
    "        if (count == 3):\n",
    "            count -= 1\n",
    "            continue\n",
    "        else:\n",
    "            fp.write(line)\n",
    "        count-=1"
   ]
  },
  {
   "cell_type": "markdown",
   "metadata": {},
   "source": [
    "Exercise Question 7: Accept any three string from one input() call"
   ]
  },
  {
   "cell_type": "code",
   "execution_count": 22,
   "metadata": {},
   "outputs": [
    {
     "name": "stdout",
     "output_type": "stream",
     "text": [
      "Enter three Stringabc def ghi\n",
      "abc def ghi\n"
     ]
    }
   ],
   "source": [
    "str1,str2,str3 = input(\"Enter three String:\").split()\n",
    "print(str1,str2,str3)"
   ]
  },
  {
   "cell_type": "markdown",
   "metadata": {},
   "source": [
    "Exercise Question 8: You have following data display it using string.format() method as per the following condition\n",
    "    \n",
    "quantity = 3\n",
    "totalMoney = 1000\n",
    "price = 450\n",
    "\n",
    "I have 1000 dollars so I can buy 3 football for 450.00 dollars."
   ]
  },
  {
   "cell_type": "code",
   "execution_count": 26,
   "metadata": {},
   "outputs": [
    {
     "name": "stdout",
     "output_type": "stream",
     "text": [
      "I have 1000 dollars so I can buy 3 football for 450.00 dollars\n"
     ]
    }
   ],
   "source": [
    "quantity = 3 \n",
    "totalMoney = 1000\n",
    "price = 450\n",
    "\n",
    "statement1=\"I have {1} dollars so I can buy {0} football for {2:.2f} dollars\"\n",
    "print(statement1.format(quantity,totalMoney,price))"
   ]
  },
  {
   "cell_type": "markdown",
   "metadata": {},
   "source": [
    "Exercise Question 9: How to check file is empty or not"
   ]
  },
  {
   "cell_type": "code",
   "execution_count": 27,
   "metadata": {},
   "outputs": [
    {
     "name": "stdout",
     "output_type": "stream",
     "text": [
      "False\n"
     ]
    }
   ],
   "source": [
    "import os\n",
    "print(os.stat(\"test.txt\").st_size == 0)"
   ]
  },
  {
   "cell_type": "markdown",
   "metadata": {},
   "source": [
    "Exercise Question 10: Read line number 4 from the following file\n",
    "\n",
    "test.txt file:\n",
    "\n",
    "line1\n",
    "line2\n",
    "line3\n",
    "line4\n",
    "line5\n",
    "line6\n",
    "line7"
   ]
  },
  {
   "cell_type": "code",
   "execution_count": 31,
   "metadata": {},
   "outputs": [
    {
     "ename": "IndexError",
     "evalue": "list index out of range",
     "output_type": "error",
     "traceback": [
      "\u001b[1;31m---------------------------------------------------------------------------\u001b[0m",
      "\u001b[1;31mIndexError\u001b[0m                                Traceback (most recent call last)",
      "\u001b[1;32m<ipython-input-31-59138502f38f>\u001b[0m in \u001b[0;36m<module>\u001b[1;34m\u001b[0m\n\u001b[0;32m      1\u001b[0m \u001b[1;32mwith\u001b[0m \u001b[0mopen\u001b[0m\u001b[1;33m(\u001b[0m\u001b[1;34m\"test.txt\"\u001b[0m\u001b[1;33m,\u001b[0m \u001b[1;34m\"r\"\u001b[0m\u001b[1;33m)\u001b[0m \u001b[1;32mas\u001b[0m \u001b[0mfp\u001b[0m\u001b[1;33m:\u001b[0m\u001b[1;33m\u001b[0m\u001b[1;33m\u001b[0m\u001b[0m\n\u001b[0;32m      2\u001b[0m     \u001b[0mlines\u001b[0m \u001b[1;33m=\u001b[0m \u001b[0mfp\u001b[0m\u001b[1;33m.\u001b[0m\u001b[0mreadlines\u001b[0m\u001b[1;33m(\u001b[0m\u001b[1;33m)\u001b[0m\u001b[1;33m\u001b[0m\u001b[1;33m\u001b[0m\u001b[0m\n\u001b[1;32m----> 3\u001b[1;33m     \u001b[0mprint\u001b[0m\u001b[1;33m(\u001b[0m\u001b[0mlines\u001b[0m\u001b[1;33m[\u001b[0m\u001b[1;36m3\u001b[0m\u001b[1;33m]\u001b[0m\u001b[1;33m)\u001b[0m\u001b[1;33m\u001b[0m\u001b[1;33m\u001b[0m\u001b[0m\n\u001b[0m",
      "\u001b[1;31mIndexError\u001b[0m: list index out of range"
     ]
    }
   ],
   "source": [
    "with open(\"test.txt\", \"r\") as fp:\n",
    "    lines = fp.readlines()\n",
    "    print(lines[3])"
   ]
  },
  {
   "cell_type": "code",
   "execution_count": null,
   "metadata": {},
   "outputs": [],
   "source": []
  }
 ],
 "metadata": {
  "kernelspec": {
   "display_name": "Python 3",
   "language": "python",
   "name": "python3"
  },
  "language_info": {
   "codemirror_mode": {
    "name": "ipython",
    "version": 3
   },
   "file_extension": ".py",
   "mimetype": "text/x-python",
   "name": "python",
   "nbconvert_exporter": "python",
   "pygments_lexer": "ipython3",
   "version": "3.7.3"
  }
 },
 "nbformat": 4,
 "nbformat_minor": 2
}
