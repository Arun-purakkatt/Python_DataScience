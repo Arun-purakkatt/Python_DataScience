{
 "cells": [
  {
   "cell_type": "markdown",
   "metadata": {},
   "source": [
    "Exercise Question 1: Create a function that can accept two arguments name and age and print its value"
   ]
  },
  {
   "cell_type": "code",
   "execution_count": 3,
   "metadata": {},
   "outputs": [],
   "source": [
    "def name_age(name,age):\n",
    "    print(name,age)"
   ]
  },
  {
   "cell_type": "code",
   "execution_count": 4,
   "metadata": {},
   "outputs": [
    {
     "name": "stdout",
     "output_type": "stream",
     "text": [
      "Ben 27\n"
     ]
    }
   ],
   "source": [
    "name_age(\"Ben\",27)"
   ]
  },
  {
   "cell_type": "markdown",
   "metadata": {},
   "source": [
    "Exercise Question 2: Write a function func1() such that it can accept a variable length of  argument and print all arguments value\n",
    "func1(20, 40, 60)\n",
    "func1(80, 100)\n",
    "Expected Output:\n",
    "\n",
    "After func1(20, 40, 60):\n",
    "\n",
    "20\n",
    "40\n",
    "60\n",
    "\n",
    "After func1(80, 100):\n",
    "\n",
    "80\n",
    "100\n",
    "\n"
   ]
  },
  {
   "cell_type": "code",
   "execution_count": 5,
   "metadata": {},
   "outputs": [
    {
     "name": "stdout",
     "output_type": "stream",
     "text": [
      "10\n",
      "20\n",
      "30\n",
      "20\n",
      "30\n"
     ]
    }
   ],
   "source": [
    "def func1(*args):\n",
    "    for i in args:\n",
    "        print(i)\n",
    "        \n",
    "func1(10,20,30)\n",
    "func1(20,30)"
   ]
  },
  {
   "cell_type": "markdown",
   "metadata": {},
   "source": [
    "Exercise Question 3: Write a function calculation() such that it can accept two variables and calculate the addition and subtraction of it. And also it must return both addition and subtraction in a single return call\n",
    "For example:\n",
    "\n",
    "def calculation(a, b):\n",
    "    # Your Code\n",
    "\n",
    "res = calculation(40, 10)\n",
    "print(res)\n",
    "A res should produce result 50, 30"
   ]
  },
  {
   "cell_type": "code",
   "execution_count": 7,
   "metadata": {},
   "outputs": [
    {
     "name": "stdout",
     "output_type": "stream",
     "text": [
      "(50, 30)\n"
     ]
    }
   ],
   "source": [
    "def calculation(a,b):\n",
    "    return a+b,a-b\n",
    "\n",
    "res=calculation(40,10)\n",
    "print(res)"
   ]
  },
  {
   "cell_type": "markdown",
   "metadata": {},
   "source": [
    "Exercise Question 4: Create a function showEmployee() in such a way that it should accept employee name, and it’s salary and display both, and if the salary is missing in function call it should show it as 9000"
   ]
  },
  {
   "cell_type": "code",
   "execution_count": 8,
   "metadata": {},
   "outputs": [],
   "source": [
    "def showemployee(name,salary=9000):\n",
    "    print(\"Employee:\",name,\"Salary:\",salary)\n",
    "    \n",
    "    "
   ]
  },
  {
   "cell_type": "code",
   "execution_count": 10,
   "metadata": {},
   "outputs": [
    {
     "name": "stdout",
     "output_type": "stream",
     "text": [
      "Employee: Ben Salary: 9000\n"
     ]
    }
   ],
   "source": [
    "showemployee('Ben',9000)"
   ]
  },
  {
   "cell_type": "code",
   "execution_count": 12,
   "metadata": {},
   "outputs": [
    {
     "name": "stdout",
     "output_type": "stream",
     "text": [
      "Employee: Ben Salary: 9000\n"
     ]
    }
   ],
   "source": [
    "showemployee('Ben')"
   ]
  },
  {
   "cell_type": "markdown",
   "metadata": {},
   "source": [
    "Exercise Question 5: Create an inner function to calculate the addition in the following way\n",
    "Create an outer function that will accept two parameters a and b\n",
    "Create an inner function inside an outer function that will calculate the addition of a and b\n",
    "At last, an outer function will add 5 into addition and return it"
   ]
  },
  {
   "cell_type": "code",
   "execution_count": 15,
   "metadata": {},
   "outputs": [
    {
     "name": "stdout",
     "output_type": "stream",
     "text": [
      "20\n"
     ]
    }
   ],
   "source": [
    "def outerfunc(a,b):\n",
    "    def innerfunc(a,b):\n",
    "        sum=a+b\n",
    "        return sum\n",
    "    add=innerfunc(a,b)\n",
    "    return add+5\n",
    "\n",
    "result=outerfunc(5,10)\n",
    "print(result)\n",
    "    \n"
   ]
  },
  {
   "cell_type": "markdown",
   "metadata": {},
   "source": [
    "Exercise Question 6: Write a recursive function to calculate the sum of numbers from 0 to 10"
   ]
  },
  {
   "cell_type": "code",
   "execution_count": 17,
   "metadata": {},
   "outputs": [
    {
     "name": "stdout",
     "output_type": "stream",
     "text": [
      "55\n"
     ]
    }
   ],
   "source": [
    "def calculatesum(num):\n",
    "    if num:\n",
    "        return num+calculatesum(num-1)\n",
    "    else:\n",
    "        return 0\n",
    "    \n",
    "res=calculatesum(10)\n",
    "print(res)"
   ]
  },
  {
   "cell_type": "markdown",
   "metadata": {},
   "source": [
    "Exercise Question 7: Assign a different name to function and call it through the new name\n",
    "Below is the function displayStudent(name, age). Assign a new name showStudent(name, age)  to it and call through the new name\n",
    "\n",
    "def displayStudent(name, age):\n",
    "    print(name, age)\n",
    "\n",
    "displayStudent(\"Emma\", 26)\n",
    "You should be able to call the same function using\n",
    "\n",
    "showStudent(name, age)"
   ]
  },
  {
   "cell_type": "code",
   "execution_count": 18,
   "metadata": {},
   "outputs": [
    {
     "name": "stdout",
     "output_type": "stream",
     "text": [
      "Emma 26\n"
     ]
    }
   ],
   "source": [
    "def displaystudent(name,age):\n",
    "    print(name,age)\n",
    "    \n",
    "displaystudent(\"Emma\",26)"
   ]
  },
  {
   "cell_type": "code",
   "execution_count": 19,
   "metadata": {},
   "outputs": [
    {
     "name": "stdout",
     "output_type": "stream",
     "text": [
      "Emma 26\n"
     ]
    }
   ],
   "source": [
    "showstudent=displaystudent\n",
    "showstudent(\"Emma\",26)"
   ]
  },
  {
   "cell_type": "markdown",
   "metadata": {},
   "source": [
    "Exercise Question 8: Generate a Python list of all the even numbers between 4 to 30\n",
    "Expected Output:\n",
    "\n",
    "[4, 6, 8, 10, 12, 14, 16, 18, 20, 22, 24, 26, 28]"
   ]
  },
  {
   "cell_type": "code",
   "execution_count": 20,
   "metadata": {},
   "outputs": [
    {
     "name": "stdout",
     "output_type": "stream",
     "text": [
      "[4, 6, 8, 10, 12, 14, 16, 18, 20, 22, 24, 26, 28]\n"
     ]
    }
   ],
   "source": [
    "def evennumbers(num1,num2):\n",
    "    print(list(range(num1,num2,2)))\n",
    "    \n",
    "evennumbers(4,30)"
   ]
  },
  {
   "cell_type": "markdown",
   "metadata": {},
   "source": [
    "Exercise Question 9: Return the largest item from the given list\n",
    "aList = [4, 6, 8, 24, 12, 2]\n",
    "\n",
    "Expected Output:\n",
    "\n",
    "24"
   ]
  },
  {
   "cell_type": "code",
   "execution_count": 23,
   "metadata": {},
   "outputs": [
    {
     "name": "stdout",
     "output_type": "stream",
     "text": [
      "24\n"
     ]
    }
   ],
   "source": [
    "alist=[4,6,8,24,12,2]\n",
    "\n",
    "print(max(alist))"
   ]
  },
  {
   "cell_type": "code",
   "execution_count": null,
   "metadata": {},
   "outputs": [],
   "source": []
  }
 ],
 "metadata": {
  "kernelspec": {
   "display_name": "Python 3",
   "language": "python",
   "name": "python3"
  },
  "language_info": {
   "codemirror_mode": {
    "name": "ipython",
    "version": 3
   },
   "file_extension": ".py",
   "mimetype": "text/x-python",
   "name": "python",
   "nbconvert_exporter": "python",
   "pygments_lexer": "ipython3",
   "version": "3.7.7"
  }
 },
 "nbformat": 4,
 "nbformat_minor": 4
}
